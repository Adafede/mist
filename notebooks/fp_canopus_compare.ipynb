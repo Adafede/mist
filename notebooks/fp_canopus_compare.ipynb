{
 "cells": [
  {
   "cell_type": "markdown",
   "metadata": {},
   "source": [
    "## Fingerprint comparison on CANOPUS dataset"
   ]
  },
  {
   "cell_type": "code",
   "execution_count": 1,
   "metadata": {},
   "outputs": [
    {
     "name": "stderr",
     "output_type": "stream",
     "text": [
      "/home/samlg/.conda/envs/ms-gen/lib/python3.8/site-packages/tqdm/auto.py:22: TqdmWarning: IProgress not found. Please update jupyter and ipywidgets. See https://ipywidgets.readthedocs.io/en/stable/user_install.html\n",
      "  from .autonotebook import tqdm as notebook_tqdm\n"
     ]
    }
   ],
   "source": [
    "import pandas as pd\n",
    "from pathlib import Path\n",
    "import numpy as np\n",
    "import pickle\n",
    "from mist.utils.plot_utils import *\n",
    "from itertools import product\n",
    "from mist.utils import analysis_utils \n",
    "\n",
    "from matplotlib.patches import Patch\n",
    "import matplotlib.ticker as mtick\n",
    "\n",
    "# reload analysis_utils\n",
    "from importlib import reload\n",
    "reload(analysis_utils)\n",
    "\n",
    "set_style()"
   ]
  },
  {
   "cell_type": "markdown",
   "metadata": {},
   "source": [
    "## Load results and compute metrics"
   ]
  },
  {
   "cell_type": "code",
   "execution_count": 3,
   "metadata": {},
   "outputs": [],
   "source": [
    "out_folder = Path(\"../results/figures/canopus_fp_compare/\")\n",
    "out_folder.mkdir(parents=True, exist_ok=True)\n",
    "\n",
    "res_folders = {\n",
    "    \"mist\": \"../results/canopus_fp_mist/\",\n",
    "    \"ffn\": \"../results/canopus_fp_ffn/\",\n",
    "}"
   ]
  },
  {
   "cell_type": "code",
   "execution_count": 4,
   "metadata": {},
   "outputs": [
    {
     "name": "stdout",
     "output_type": "stream",
     "text": [
      "mist\n",
      "ffn\n"
     ]
    },
    {
     "name": "stderr",
     "output_type": "stream",
     "text": [
      "/home/samlg/projects/mist-dev-v2/src/mist/utils/misc_utils.py:147: RuntimeWarning: divide by zero encountered in log\n",
      "  res = np.log(x)\n",
      "/home/samlg/projects/mist-dev-v2/src/mist/utils/misc_utils.py:147: RuntimeWarning: divide by zero encountered in log\n",
      "  res = np.log(x)\n"
     ]
    }
   ],
   "source": [
    "bit_metrics = analysis_utils.bit_metrics\n",
    "spec_metrics = analysis_utils.spec_metrics\n",
    "\n",
    "out_df = []\n",
    "for method_name, res_folder in res_folders.items():\n",
    "    res_folder = Path(res_folder)\n",
    "    # Generate rglob pattern to match fp_preds_csi2022.p or \n",
    "    for res_file in res_folder.rglob(\"*canopus_train*.p\"):\n",
    "        print(method_name)\n",
    "        res_out = pickle.load(open(res_file, \"rb\"))\n",
    "        seed = res_out['args']['seed'] if 'seed' in res_out['args'] else 0\n",
    "        split = res_out['split_name']\n",
    "\n",
    "        # Compute all_metrics\n",
    "        p, t = (np.array(res_out[\"preds\"]), np.array(res_out[\"targs\"]))\n",
    "        names = res_out[\"names\"]\n",
    "        for spec_metric, val_fn in spec_metrics.items():\n",
    "            extra_args = {}\n",
    "            if spec_metric == \"Tani\":\n",
    "                extra_args['thresh'] = 0.2\n",
    "                \n",
    "            res = val_fn(p, t, **extra_args)\n",
    "            for name, r in zip(names, res): \n",
    "                new_out = {\"name\": name, \n",
    "                           \"val\": r, \n",
    "                           \"metric\": spec_metric,\n",
    "                           \"type\": \"spectra\",\n",
    "                           \"method\": method_name,\n",
    "                           \"seed\": seed,\n",
    "                           \"split\": split}\n",
    "                out_df.append(new_out)\n",
    "        for bit_metric, val_fn in bit_metrics.items():\n",
    "            res = val_fn(p, t)\n",
    "            for bit_num, r in enumerate(res):\n",
    "                new_out = {\"name\": bit_num, \n",
    "                           \"val\": r,\n",
    "                           \"metric\": bit_metric,\n",
    "                           \"type\": \"bits\",\n",
    "                           \"method\": method_name,\n",
    "                           \"seed\": seed,\n",
    "                           \"split\": split}\n",
    "                out_df.append(new_out)"
   ]
  },
  {
   "cell_type": "code",
   "execution_count": 5,
   "metadata": {},
   "outputs": [],
   "source": [
    "out_df = pd.DataFrame(out_df)\n",
    "\n",
    "split_num = out_df['split'].apply(lambda x: int(x[-1]))\n",
    "out_df['split_num'] = split_num\n",
    "out_df_orig = out_df.copy()"
   ]
  },
  {
   "cell_type": "code",
   "execution_count": 6,
   "metadata": {},
   "outputs": [
    {
     "data": {
      "text/plain": [
       "array(['canopus_hplus_100_0'], dtype=object)"
      ]
     },
     "execution_count": 6,
     "metadata": {},
     "output_type": "execute_result"
    }
   ],
   "source": [
    "out_df['split'].unique()"
   ]
  },
  {
   "cell_type": "code",
   "execution_count": 7,
   "metadata": {},
   "outputs": [],
   "source": [
    "keep_split_nums = [0]\n",
    "out_df = out_df_orig[out_df_orig['split_num'].isin(keep_split_nums)]"
   ]
  },
  {
   "cell_type": "markdown",
   "metadata": {},
   "source": [
    "## Create table stats "
   ]
  },
  {
   "cell_type": "code",
   "execution_count": 8,
   "metadata": {},
   "outputs": [],
   "source": [
    "stds = out_df.groupby([\"method\", \"metric\"]).std()['val'].reset_index()\n",
    "counts = out_df.groupby([\"method\", \"metric\"]).count()['val'].reset_index()\n",
    "means = out_df.groupby([\"method\", \"metric\"]).mean()['val'].reset_index()"
   ]
  },
  {
   "cell_type": "code",
   "execution_count": 9,
   "metadata": {},
   "outputs": [],
   "source": [
    "# Sort both by method then metric\n",
    "stds.sort_values(by=[\"method\", \"metric\"], inplace=True)\n",
    "means.sort_values(by=[\"method\", \"metric\"], inplace=True)\n",
    "counts.sort_values(by=[\"method\", \"metric\"], inplace=True)\n",
    "\n",
    "# Compute conf interval from stds and confs\n",
    "confs_vals = stds['val'] * 1.96 / np.sqrt(counts['val'])\n",
    "confs = stds.copy() \n",
    "confs['val'] = confs_vals"
   ]
  },
  {
   "cell_type": "code",
   "execution_count": 10,
   "metadata": {},
   "outputs": [
    {
     "data": {
      "text/html": [
       "<div>\n",
       "<style scoped>\n",
       "    .dataframe tbody tr th:only-of-type {\n",
       "        vertical-align: middle;\n",
       "    }\n",
       "\n",
       "    .dataframe tbody tr th {\n",
       "        vertical-align: top;\n",
       "    }\n",
       "\n",
       "    .dataframe thead th {\n",
       "        text-align: right;\n",
       "    }\n",
       "</style>\n",
       "<table border=\"1\" class=\"dataframe\">\n",
       "  <thead>\n",
       "    <tr style=\"text-align: right;\">\n",
       "      <th></th>\n",
       "      <th>method</th>\n",
       "      <th>metric</th>\n",
       "      <th>val</th>\n",
       "    </tr>\n",
       "  </thead>\n",
       "  <tbody>\n",
       "    <tr>\n",
       "      <th>0</th>\n",
       "      <td>ffn</td>\n",
       "      <td>Cosine</td>\n",
       "      <td>0.558328</td>\n",
       "    </tr>\n",
       "    <tr>\n",
       "      <th>1</th>\n",
       "      <td>ffn</td>\n",
       "      <td>LL_bit</td>\n",
       "      <td>-0.032357</td>\n",
       "    </tr>\n",
       "    <tr>\n",
       "      <th>2</th>\n",
       "      <td>ffn</td>\n",
       "      <td>LL_spec</td>\n",
       "      <td>-0.032357</td>\n",
       "    </tr>\n",
       "    <tr>\n",
       "      <th>3</th>\n",
       "      <td>ffn</td>\n",
       "      <td>Tani</td>\n",
       "      <td>0.353630</td>\n",
       "    </tr>\n",
       "    <tr>\n",
       "      <th>4</th>\n",
       "      <td>mist</td>\n",
       "      <td>Cosine</td>\n",
       "      <td>0.703056</td>\n",
       "    </tr>\n",
       "    <tr>\n",
       "      <th>5</th>\n",
       "      <td>mist</td>\n",
       "      <td>LL_bit</td>\n",
       "      <td>-0.022403</td>\n",
       "    </tr>\n",
       "    <tr>\n",
       "      <th>6</th>\n",
       "      <td>mist</td>\n",
       "      <td>LL_spec</td>\n",
       "      <td>-0.022403</td>\n",
       "    </tr>\n",
       "    <tr>\n",
       "      <th>7</th>\n",
       "      <td>mist</td>\n",
       "      <td>Tani</td>\n",
       "      <td>0.508239</td>\n",
       "    </tr>\n",
       "  </tbody>\n",
       "</table>\n",
       "</div>"
      ],
      "text/plain": [
       "  method   metric       val\n",
       "0    ffn   Cosine  0.558328\n",
       "1    ffn   LL_bit -0.032357\n",
       "2    ffn  LL_spec -0.032357\n",
       "3    ffn     Tani  0.353630\n",
       "4   mist   Cosine  0.703056\n",
       "5   mist   LL_bit -0.022403\n",
       "6   mist  LL_spec -0.022403\n",
       "7   mist     Tani  0.508239"
      ]
     },
     "metadata": {},
     "output_type": "display_data"
    },
    {
     "data": {
      "text/html": [
       "<div>\n",
       "<style scoped>\n",
       "    .dataframe tbody tr th:only-of-type {\n",
       "        vertical-align: middle;\n",
       "    }\n",
       "\n",
       "    .dataframe tbody tr th {\n",
       "        vertical-align: top;\n",
       "    }\n",
       "\n",
       "    .dataframe thead th {\n",
       "        text-align: right;\n",
       "    }\n",
       "</style>\n",
       "<table border=\"1\" class=\"dataframe\">\n",
       "  <thead>\n",
       "    <tr style=\"text-align: right;\">\n",
       "      <th>metric</th>\n",
       "      <th>Cosine</th>\n",
       "      <th>LL_bit</th>\n",
       "      <th>LL_spec</th>\n",
       "      <th>Tani</th>\n",
       "    </tr>\n",
       "    <tr>\n",
       "      <th>method</th>\n",
       "      <th></th>\n",
       "      <th></th>\n",
       "      <th></th>\n",
       "      <th></th>\n",
       "    </tr>\n",
       "  </thead>\n",
       "  <tbody>\n",
       "    <tr>\n",
       "      <th>ffn</th>\n",
       "      <td>0.558328</td>\n",
       "      <td>-0.032357</td>\n",
       "      <td>-0.032357</td>\n",
       "      <td>0.353630</td>\n",
       "    </tr>\n",
       "    <tr>\n",
       "      <th>mist</th>\n",
       "      <td>0.703056</td>\n",
       "      <td>-0.022403</td>\n",
       "      <td>-0.022403</td>\n",
       "      <td>0.508239</td>\n",
       "    </tr>\n",
       "  </tbody>\n",
       "</table>\n",
       "</div>"
      ],
      "text/plain": [
       "metric    Cosine    LL_bit   LL_spec      Tani\n",
       "method                                        \n",
       "ffn     0.558328 -0.032357 -0.032357  0.353630\n",
       "mist    0.703056 -0.022403 -0.022403  0.508239"
      ]
     },
     "execution_count": 10,
     "metadata": {},
     "output_type": "execute_result"
    }
   ],
   "source": [
    "display(means)\n",
    "means.pivot_table(index='method', columns='metric', values='val')"
   ]
  },
  {
   "cell_type": "code",
   "execution_count": 11,
   "metadata": {},
   "outputs": [
    {
     "name": "stderr",
     "output_type": "stream",
     "text": [
      "/tmp/ipykernel_3973166/4161303959.py:26: FutureWarning: In future versions `DataFrame.to_latex` is expected to utilise the base implementation of `Styler.to_latex` for formatting and rendering. The arguments signature may therefore change. It is recommended instead to use `DataFrame.style.to_latex` which also contains additional functionality.\n",
      "  latex_out = latex_table.to_latex(escape=False)\n"
     ]
    },
    {
     "data": {
      "text/html": [
       "<div>\n",
       "<style scoped>\n",
       "    .dataframe tbody tr th:only-of-type {\n",
       "        vertical-align: middle;\n",
       "    }\n",
       "\n",
       "    .dataframe tbody tr th {\n",
       "        vertical-align: top;\n",
       "    }\n",
       "\n",
       "    .dataframe thead th {\n",
       "        text-align: right;\n",
       "    }\n",
       "</style>\n",
       "<table border=\"1\" class=\"dataframe\">\n",
       "  <thead>\n",
       "    <tr style=\"text-align: right;\">\n",
       "      <th></th>\n",
       "      <th>Tanimoto</th>\n",
       "      <th>Cosine sim.</th>\n",
       "      <th>Log likelihood (spectra)</th>\n",
       "      <th>Log likelihood (bits)</th>\n",
       "    </tr>\n",
       "  </thead>\n",
       "  <tbody>\n",
       "    <tr>\n",
       "      <th>FFN</th>\n",
       "      <td>$0.354 \\pm 0.013$</td>\n",
       "      <td>$0.558 \\pm 0.014$</td>\n",
       "      <td>$-0.032 \\pm 0.001$</td>\n",
       "      <td>$-0.032 \\pm 0.002$</td>\n",
       "    </tr>\n",
       "    <tr>\n",
       "      <th>MIST</th>\n",
       "      <td>$0.508 \\pm 0.015$</td>\n",
       "      <td>$0.703 \\pm 0.012$</td>\n",
       "      <td>$-0.022 \\pm 0.001$</td>\n",
       "      <td>$-0.022 \\pm 0.001$</td>\n",
       "    </tr>\n",
       "  </tbody>\n",
       "</table>\n",
       "</div>"
      ],
      "text/plain": [
       "               Tanimoto        Cosine sim. Log likelihood (spectra)  \\\n",
       "FFN   $0.354 \\pm 0.013$  $0.558 \\pm 0.014$       $-0.032 \\pm 0.001$   \n",
       "MIST  $0.508 \\pm 0.015$  $0.703 \\pm 0.012$       $-0.022 \\pm 0.001$   \n",
       "\n",
       "     Log likelihood (bits)  \n",
       "FFN     $-0.032 \\pm 0.002$  \n",
       "MIST    $-0.022 \\pm 0.001$  "
      ]
     },
     "metadata": {},
     "output_type": "display_data"
    },
    {
     "name": "stdout",
     "output_type": "stream",
     "text": [
      "\\begin{tabular}{lllll}\n",
      "\\toprule\n",
      "{} &           Tanimoto &        Cosine sim. & Log likelihood (spectra) & Log likelihood (bits) \\\\\n",
      "\\midrule\n",
      "FFN  &  $0.354 \\pm 0.013$ &  $0.558 \\pm 0.014$ &       $-0.032 \\pm 0.001$ &    $-0.032 \\pm 0.002$ \\\\\n",
      "MIST &  $0.508 \\pm 0.015$ &  $0.703 \\pm 0.012$ &       $-0.022 \\pm 0.001$ &    $-0.022 \\pm 0.001$ \\\\\n",
      "\\bottomrule\n",
      "\\end{tabular}\n",
      "\n"
     ]
    }
   ],
   "source": [
    "# Join mean and conf\n",
    "new_col = [fr\"${mean:0.3f} \\pm {conf:0.3f}$\" for mean, conf in zip(means[\"val\"], confs[\"val\"])]\n",
    "latex_df = means.copy()\n",
    "latex_df['val'] = new_col\n",
    "\n",
    "\n",
    "# Pivot\n",
    "latex_table = latex_df.pivot_table(index=\"method\", columns=\"metric\", values=\"val\",\n",
    "                                      aggfunc=lambda x: x, \n",
    "                                    )\n",
    "latex_table.columns.name = None\n",
    "latex_table.index.name = \"Method\"\n",
    "\n",
    "\n",
    "# Resort row index\n",
    "#new_order = [i for i in method_order if i in latex_table.index]\n",
    "#latex_table = latex_table.reindex(new_order)\n",
    "latex_table.index = [method_rename.get(i, i) for i in latex_table.index]\n",
    "\n",
    "# Resort col index\n",
    "new_cols = [i for i in metric_order if i in latex_table.columns]\n",
    "latex_table = latex_table.reindex(columns=new_cols)\n",
    "latex_table.columns = [metric_rename.get(i, i) for i in latex_table.columns]\n",
    "\n",
    "# Convert to latex\n",
    "latex_out = latex_table.to_latex(escape=False)\n",
    "display(latex_table)\n",
    "print(latex_out)\n",
    "\n",
    "with open(out_folder / \"latex_table.tex\", \"w\") as f:\n",
    "    f.write(latex_out)"
   ]
  }
 ],
 "metadata": {
  "kernelspec": {
   "display_name": "ms-gen",
   "language": "python",
   "name": "python3"
  },
  "language_info": {
   "codemirror_mode": {
    "name": "ipython",
    "version": 3
   },
   "file_extension": ".py",
   "mimetype": "text/x-python",
   "name": "python",
   "nbconvert_exporter": "python",
   "pygments_lexer": "ipython3",
   "version": "3.8.13"
  },
  "orig_nbformat": 4
 },
 "nbformat": 4,
 "nbformat_minor": 2
}
