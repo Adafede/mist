{
 "cells": [
  {
   "cell_type": "markdown",
   "metadata": {},
   "source": [
    "## Dataset analysis\n",
    "\n",
    "Compare dataset spectra"
   ]
  },
  {
   "cell_type": "code",
   "execution_count": 9,
   "metadata": {},
   "outputs": [],
   "source": [
    "import numpy as np\n",
    "import matplotlib.pyplot as plt\n",
    "import pandas as pd\n",
    "from pathlib import Path\n",
    "\n",
    "from mist.utils.plot_utils import *\n",
    "import mist.utils as utils"
   ]
  },
  {
   "cell_type": "code",
   "execution_count": 5,
   "metadata": {},
   "outputs": [],
   "source": [
    "output_fig_folder = Path(\"../results/figures/datasets/\")\n",
    "output_fig_folder.mkdir(exist_ok=True, parents=True)\n",
    "\n",
    "labels_files = [\n",
    "    \"../data/paired_spectra/csi2022/labels.tsv\",\n",
    "    \"../data/paired_spectra/canopus_train/labels.tsv\",\n",
    "]"
   ]
  },
  {
   "cell_type": "code",
   "execution_count": 10,
   "metadata": {},
   "outputs": [
    {
     "name": "stdout",
     "output_type": "stream",
     "text": [
      "Dataset csi2022\n",
      "Num unique smiles: 27797\n",
      "Num unique specs: 31145\n"
     ]
    },
    {
     "name": "stdout",
     "output_type": "stream",
     "text": [
      "Dataset canopus_train\n",
      "Num unique smiles: 8553\n",
      "Num unique specs: 10709\n"
     ]
    },
    {
     "data": {
      "text/plain": [
       "<Figure size 1000x500 with 0 Axes>"
      ]
     },
     "metadata": {},
     "output_type": "display_data"
    },
    {
     "data": {
      "text/plain": [
       "<Figure size 1000x500 with 0 Axes>"
      ]
     },
     "metadata": {},
     "output_type": "display_data"
    },
    {
     "data": {
      "text/plain": [
       "<Figure size 1000x500 with 0 Axes>"
      ]
     },
     "metadata": {},
     "output_type": "display_data"
    },
    {
     "data": {
      "text/plain": [
       "<Figure size 1000x500 with 0 Axes>"
      ]
     },
     "metadata": {},
     "output_type": "display_data"
    },
    {
     "data": {
      "text/plain": [
       "<Figure size 1000x500 with 0 Axes>"
      ]
     },
     "metadata": {},
     "output_type": "display_data"
    },
    {
     "data": {
      "text/plain": [
       "<Figure size 1000x500 with 0 Axes>"
      ]
     },
     "metadata": {},
     "output_type": "display_data"
    },
    {
     "data": {
      "text/plain": [
       "<Figure size 1000x500 with 0 Axes>"
      ]
     },
     "metadata": {},
     "output_type": "display_data"
    },
    {
     "data": {
      "text/plain": [
       "<Figure size 1000x500 with 0 Axes>"
      ]
     },
     "metadata": {},
     "output_type": "display_data"
    },
    {
     "data": {
      "text/plain": [
       "<Figure size 1000x500 with 0 Axes>"
      ]
     },
     "metadata": {},
     "output_type": "display_data"
    },
    {
     "data": {
      "text/plain": [
       "<Figure size 1000x500 with 0 Axes>"
      ]
     },
     "metadata": {},
     "output_type": "display_data"
    }
   ],
   "source": [
    "for label_file in labels_files:\n",
    "    label_file = Path(label_file)\n",
    "    dataset_name = label_file.parent.name\n",
    "    save_name = Path(output_fig_folder) / dataset_name\n",
    "    save_name.mkdir(exist_ok=True, parents=True)\n",
    "\n",
    "    # Step 1: Get stats\n",
    "    df = pd.read_csv(label_file, sep=\"\\t\")\n",
    "    all_smis = set(df[\"smiles\"].values)\n",
    "    all_specs = set(df[\"spec\"].values)\n",
    "    print(f\"Dataset {dataset_name}\")\n",
    "    print(f\"Num unique smiles: {len(all_smis)}\")\n",
    "    print(f\"Num unique specs: {len(all_specs)}\")\n",
    "\n",
    "\n",
    "    # Step 2: export example spec\n",
    "    smi_lens = df[\"smiles\"].apply(len).values\n",
    "    inds = np.arange(len(smi_lens))\n",
    "    inds = inds[np.logical_and(smi_lens > 15, smi_lens < 40)]\n",
    "    examples = np.random.choice(inds, 5)\n",
    "    df_sub = df.loc[examples]\n",
    "\n",
    "    # Export df sub\n",
    "    df_sub.to_csv(save_name / \"sub_df.tsv\", sep=\"\\t\")\n",
    "\n",
    "    spectra_names = df_sub[\"spec\"]\n",
    "    spectra_formula = df_sub[\"formula\"]\n",
    "    spectra_smiles = df_sub[\"smiles\"]\n",
    "\n",
    "    spec_folder = label_file.parent / \"spec_files\"\n",
    "    spec_files = [spec_folder / f\"{i}.ms\" for i in spectra_names]\n",
    "\n",
    "    num_bins, upper_lim = 10000, 1000\n",
    "    bins = np.linspace(0, upper_lim, num_bins)\n",
    "\n",
    "    # Parse spec files\n",
    "    parsed_spec_ars = [\n",
    "        list(zip(*utils.parse_spectra(i)[1]))[1] for i in spec_files if i.exists()\n",
    "    ]\n",
    "    np.vstack(parsed_spec_ars[0]).shape\n",
    "    binned = [\n",
    "        utils.norm_spectrum(\n",
    "            utils.bin_spectra(\n",
    "                parsed_spec_ar,\n",
    "                num_bins=num_bins,\n",
    "                upper_limit=upper_lim,\n",
    "            ).mean(0)[None, :]\n",
    "        ).squeeze()\n",
    "        for parsed_spec_ar in parsed_spec_ars\n",
    "    ]\n",
    "\n",
    "    for binned_spec, smiles, formula, name in zip(\n",
    "        binned, spectra_smiles, spectra_formula, spectra_names\n",
    "    ):\n",
    "        # Draw molecule\n",
    "        mol = Chem.MolFromSmiles(smiles)\n",
    "        Draw.MolToImageFile(mol, save_name / f\"{name}_{smiles}.png\")\n",
    "\n",
    "        # Plot spectrum\n",
    "        fig = plt.figure(figsize=(10, 5))\n",
    "        ax = fig.gca()\n",
    "        inds_temp = np.nonzero(binned_spec)[0].flatten()\n",
    "        for i in inds_temp:\n",
    "            ax.axvline(bins[i], ymin=0, ymax=binned_spec[i])\n",
    "\n",
    "        ax.set_xlabel(\"M/Z\")\n",
    "        ax.set_ylabel(\"I\")\n",
    "        ax.set_ylim([0, 1.08])\n",
    "        ax.set_xlim([0, 1000])\n",
    "        ax.set_title(f\"{name}\\n{formula}\\n{smiles}\")\n",
    "\n",
    "        fig.savefig(save_name / f\"{name}.pdf\", bbox_inches=\"tight\")\n",
    "        fig.clf()"
   ]
  },
  {
   "cell_type": "code",
   "execution_count": null,
   "metadata": {},
   "outputs": [],
   "source": []
  }
 ],
 "metadata": {
  "kernelspec": {
   "display_name": "ms-gen",
   "language": "python",
   "name": "python3"
  },
  "language_info": {
   "codemirror_mode": {
    "name": "ipython",
    "version": 3
   },
   "file_extension": ".py",
   "mimetype": "text/x-python",
   "name": "python",
   "nbconvert_exporter": "python",
   "pygments_lexer": "ipython3",
   "version": "3.8.13"
  },
  "orig_nbformat": 4
 },
 "nbformat": 4,
 "nbformat_minor": 2
}
