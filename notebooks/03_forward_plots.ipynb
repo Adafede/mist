{
 "cells": [
  {
   "cell_type": "markdown",
   "metadata": {},
   "source": [
    "# 03 forward plots\n",
    "Making forward plots to verify reasonable spectra predictions for data augmentation"
   ]
  },
  {
   "cell_type": "code",
   "execution_count": null,
   "metadata": {},
   "outputs": [],
   "source": [
    "import pandas as pd\n",
    "from pathlib import Path\n",
    "from rdkit import Chem\n",
    "from rdkit.Chem import Draw\n",
    "import numpy as np\n",
    "import matplotlib.pyplot as plt\n",
    "from datetime import datetime\n",
    "\n",
    "from rdkit import Chem\n",
    "from rdkit.Chem import Draw"
   ]
  },
  {
   "cell_type": "code",
   "execution_count": null,
   "metadata": {},
   "outputs": [],
   "source": [
    "\n",
    "import mist.utils  as utils\n",
    "from mist.utils import plot_utils\n",
    "\n",
    "plot_utils.set_style()"
   ]
  },
  {
   "cell_type": "code",
   "execution_count": null,
   "metadata": {},
   "outputs": [],
   "source": [
    "input_dir = \"../data/paired_spectra/canopus_train/\"\n",
    "input_dir = Path(input_dir)\n",
    "forward_folder = input_dir / \"morgan4096_spec_preds_fold_100_0\"\n",
    "labels_file = input_dir / \"labels.tsv\"\n",
    "k = 6\n",
    "date = datetime.now().strftime(\"%Y_%m_%d\")\n",
    "res_dir = f\"../results/{date}_output_forward_imgs\"\n",
    "res_dir_orig = Path(res_dir)\n",
    "res_dir_orig.mkdir(exist_ok=True)"
   ]
  },
  {
   "cell_type": "code",
   "execution_count": null,
   "metadata": {},
   "outputs": [],
   "source": [
    "full_labels = pd.read_csv(labels_file, sep=\"\\t\")\n",
    "forward_labels_file = forward_folder / \"labels.tsv\"\n",
    "forward_labels = pd.read_csv(forward_labels_file, sep=\"\\t\", index_col=0)"
   ]
  },
  {
   "cell_type": "code",
   "execution_count": null,
   "metadata": {},
   "outputs": [],
   "source": [
    "name_to_full_smi = dict(full_labels[['spec', 'smiles']].values)\n",
    "name_to_forward_smi = dict(forward_labels[['spec', 'smiles']].values)\n",
    "\n",
    "name_to_full_ikey = dict(full_labels[['spec', 'inchikey']].values)\n",
    "name_to_forward_ikey = dict(forward_labels[['spec', 'inchikey']].values)\n",
    "\n",
    "ikey_to_forward = dict(forward_labels[['inchikey', 'spec']].values)\n",
    "ikey_to_spec = dict(full_labels[['inchikey', 'spec']].values)\n",
    "print(len(ikey_to_forward.keys()))\n",
    "print(len(ikey_to_spec.keys()))"
   ]
  },
  {
   "cell_type": "code",
   "execution_count": null,
   "metadata": {},
   "outputs": [],
   "source": [
    "ikeys_forward = set(ikey_to_forward.keys())\n",
    "ikeys_full = set(ikey_to_spec.keys())\n",
    "ikey_overlap = ikeys_full.intersection(ikeys_forward)\n",
    "print(\"Len of overlap\", len(ikey_overlap))\n"
   ]
  },
  {
   "cell_type": "code",
   "execution_count": null,
   "metadata": {},
   "outputs": [],
   "source": [
    "split_file = \"../data/paired_spectra/canopus_train/splits/canopus_hplus_100_0.csv\"\n",
    "split_df = pd.read_csv(split_file,)\n",
    "split_df_test_names = split_df[split_df['Fold_100_0'] == \"test\"]\n",
    "split_df_train_names = split_df[split_df['Fold_100_0'] == \"train\"]\n",
    "\n",
    "test_names = split_df_test_names['name'].values\n",
    "train_names = split_df_train_names['name'].values\n",
    "test_ikeys = [name_to_full_ikey[i] for i in test_names]\n",
    "train_ikeys = [name_to_full_ikey[i] for i in train_names]\n",
    "print(len(ikey_overlap.intersection(train_ikeys)), len(train_ikeys))\n",
    "print(len(ikey_overlap.intersection(test_ikeys)), len(test_ikeys))"
   ]
  },
  {
   "cell_type": "code",
   "execution_count": null,
   "metadata": {},
   "outputs": [],
   "source": [
    "# Sample forward ikey\n",
    "test_name = np.random.choice(test_names)\n",
    "test_ikey = name_to_full_ikey[test_name]\n",
    "sample_spec = ikey_to_forward[test_ikey]\n",
    "# sample_spec = np.random.choice(forward_labels['spec'].values)\n",
    "sample_compound = name_to_forward_smi[sample_spec]\n",
    "print(sample_compound)\n",
    "Chem.MolFromSmiles(sample_compound)"
   ]
  },
  {
   "cell_type": "code",
   "execution_count": null,
   "metadata": {},
   "outputs": [],
   "source": [
    "pred_file = forward_folder / \"spectra\" / f\"{sample_spec}.tsv\"\n",
    "spec = pd.read_csv(pred_file, sep=\"\\t\", index_col=0)"
   ]
  },
  {
   "cell_type": "markdown",
   "metadata": {},
   "source": []
  },
  {
   "cell_type": "code",
   "execution_count": null,
   "metadata": {},
   "outputs": [],
   "source": [
    "sirius_df = forward_folder.parent / \"sirius_outputs/summary_statistics/summary_df.tsv\"\n",
    "sirius_df = pd.read_csv(sirius_df, sep=\"\\t\", index_col=0)\n",
    "real_spec = forward_folder.parent / \"spec_files\" / f\"{test_name}.ms\"\n",
    "\n",
    "spec_name_to_sirius = dict(sirius_df[['spec_name', \"spec_file\"]].values)\n",
    "real_spec = spec_name_to_sirius[test_name]\n",
    "real_df = pd.read_csv(Path(\"../\") / real_spec, sep=\"\\t\")\n",
    "mzs, intens = real_df[['mz', \"rel.intensity\"]]\n",
    "#real_spec "
   ]
  },
  {
   "cell_type": "code",
   "execution_count": null,
   "metadata": {},
   "outputs": [],
   "source": [
    "# spec_ar = utils.parse_spectra(real_spec)[1][0][1]\n",
    "# spec_ar = np.array([j for j in sorted(spec_ar, key = lambda x : x[1])][-20:])\n",
    "# spec_ar[:, 1] = spec_ar[:, 1] /  spec_ar[:, 1].max()\n",
    "# mzs, intens = spec_ar[:, 0], spec_ar[:, 1]\n",
    "fig = plt.figure(figsize=(3.5,1.7), dpi=300)\n",
    "ax = fig.gca()\n",
    "for ind, (m, i) in enumerate(zip(mzs, intens)): \n",
    "    ax.vlines(x=m, ymin=0,ymax=i, color=\"black\", linewidth=0.5)\n",
    "ax.set_xlabel(\"M/Z\")\n",
    "ax.set_ylabel(\"Intensity\")\n",
    "ax.set_ylim([0,1.2])\n",
    "print(sample_compound)"
   ]
  },
  {
   "cell_type": "code",
   "execution_count": null,
   "metadata": {},
   "outputs": [],
   "source": [
    "mzs, intens = zip(*spec[[\"mz\", \"intensity\"]].values)\n",
    "fig = plt.figure(figsize=(3.5,1.7), dpi=300)\n",
    "ax = fig.gca()\n",
    "for ind, (m, i) in enumerate(zip(mzs, intens)): \n",
    "    ax.vlines(x=m, ymin=0,ymax=i, color=\"black\", linewidth=0.5)\n",
    "\n",
    "mzs, intens = real_df[['mz', \"rel.intensity\"]]\n",
    "for ind, (m, i) in enumerate(zip(mzs, intens)): \n",
    "    ax.vlines(x=m, ymin=0,ymax=-float(i), color=\"red\", linewidth=0.5)\n",
    "ax.set_xlabel(\"M/Z\")\n",
    "ax.set_ylabel(\"Intensity\")\n",
    "ax.set_ylim([-1.2,1.2])\n",
    "print(sample_compound)"
   ]
  },
  {
   "cell_type": "code",
   "execution_count": null,
   "metadata": {
    "scrolled": true
   },
   "outputs": [],
   "source": [
    "# Create plot\n",
    "res_dir.mkdir(exist_ok=True)\n",
    "fig = plt.figure(figsize=(3.5,1.7), dpi=300)\n",
    "ax = fig.gca()\n",
    "full_out_smi = res_dir / f\"{spec_name}_mol_full.pdf\"\n",
    "\n",
    "mol = Chem.MolFromSmiles(spec_smiles)\n",
    "Chem.Kekulize(mol)\n",
    "export_mol(mol, full_out_smi)\n",
    "for ind, (smi, (m, i)) in enumerate(zip(smiles, zip(mzs, intens))): \n",
    "    ax.vlines(x=m, ymin=0,ymax=i, color=\"black\", linewidth=0.5)\n",
    "    if smi is not None and i in top_intens: \n",
    "        mol = Chem.MolFromSmiles(smi, sanitize=False)\n",
    "        if mol is not None:\n",
    "            try:\n",
    "                Chem.Kekulize(mol)\n",
    "            except:\n",
    "                continue\n",
    "            ax.text(x=m, y=i + 0.2, s = f\"{ind}\", fontsize=4, rotation=90) \n",
    "            temp_out_smi = res_dir / f\"{spec_name}_mol_{ind}.pdf\"\n",
    "            export_mol(mol, temp_out_smi)\n",
    "\n",
    "ax.set_xlabel(\"M/Z\")\n",
    "ax.set_ylabel(\"Intensity\")\n",
    "ax.set_ylim([0,1.5])\n",
    "ax.set_title(f\"Spectra: {spec_name}\")\n",
    "plt.savefig(res_dir / f\"{spec_name}_out_spec.pdf\", bbox_inches=\"tight\")"
   ]
  },
  {
   "cell_type": "code",
   "execution_count": null,
   "metadata": {},
   "outputs": [],
   "source": []
  }
 ],
 "metadata": {
  "kernelspec": {
   "display_name": "Python [conda env:ms-gen]",
   "language": "python",
   "name": "conda-env-ms-gen-py"
  },
  "language_info": {
   "codemirror_mode": {
    "name": "ipython",
    "version": 3
   },
   "file_extension": ".py",
   "mimetype": "text/x-python",
   "name": "python",
   "nbconvert_exporter": "python",
   "pygments_lexer": "ipython3",
   "version": "3.8.10"
  },
  "toc": {
   "base_numbering": 1,
   "nav_menu": {},
   "number_sections": true,
   "sideBar": true,
   "skip_h1_title": false,
   "title_cell": "Table of Contents",
   "title_sidebar": "Contents",
   "toc_cell": false,
   "toc_position": {},
   "toc_section_display": true,
   "toc_window_display": false
  },
  "vscode": {
   "interpreter": {
    "hash": "0104df62c80ee1845876b5ec5b2a8b2e89ea0f28159e1f86b83bf27a253591c7"
   }
  }
 },
 "nbformat": 4,
 "nbformat_minor": 2
}
